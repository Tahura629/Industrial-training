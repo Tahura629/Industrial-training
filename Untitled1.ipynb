{
  "nbformat": 4,
  "nbformat_minor": 0,
  "metadata": {
    "colab": {
      "provenance": [],
      "authorship_tag": "ABX9TyO9QW+NmiZUBpHXKuK+Bkpe",
      "include_colab_link": true
    },
    "kernelspec": {
      "name": "python3",
      "display_name": "Python 3"
    },
    "language_info": {
      "name": "python"
    }
  },
  "cells": [
    {
      "cell_type": "markdown",
      "metadata": {
        "id": "view-in-github",
        "colab_type": "text"
      },
      "source": [
        "<a href=\"https://colab.research.google.com/github/Tahura629/Industrial-training/blob/main/Untitled1.ipynb\" target=\"_parent\"><img src=\"https://colab.research.google.com/assets/colab-badge.svg\" alt=\"Open In Colab\"/></a>"
      ]
    },
    {
      "cell_type": "markdown",
      "source": [
        "Modify the GET Example: Change the get_example function to fetch a list of posts instead of just one. Analyze the JSON structure and print out the titles of all posts."
      ],
      "metadata": {
        "id": "s4feO8OIo8gV"
      }
    },
    {
      "cell_type": "code",
      "execution_count": null,
      "metadata": {
        "id": "rLFYY_x2f1GC"
      },
      "outputs": [],
      "source": [
        "import requests"
      ]
    },
    {
      "cell_type": "code",
      "source": [
        "def get_example():\n",
        "    # URL for the API endpoint that returns a list of posts\n",
        "    url = \"https://jsonplaceholder.typicode.com/posts\"\n",
        "    response = requests.get(url) # Fixed: Removed extra space at the beginning of this line\n",
        "    # Check if the response was successful (status code 200)\n",
        "    if response.status_code == 200:\n",
        "        # Parse the response JSON into a Python object (list of posts)\n",
        "        posts = response.json() # Fixed: Indented this line to be within the if block\n",
        "        # Loop through each post and print the title\n",
        "        for post in posts:\n",
        "            print(post[\"title\"])\n",
        "    else: # This else statement should be at the same indentation level as the 'if' statement\n",
        "        print(\"Failed to retrieve posts. Status code:\", response.status_code)\n",
        "\n",
        "# Call the function\n",
        "get_example()"
      ],
      "metadata": {
        "colab": {
          "base_uri": "https://localhost:8080/"
        },
        "id": "0R6Jc4XAoq41",
        "outputId": "7c2715e7-c75d-4e11-f39d-2b27e833f406"
      },
      "execution_count": null,
      "outputs": [
        {
          "output_type": "stream",
          "name": "stdout",
          "text": [
            "sunt aut facere repellat provident occaecati excepturi optio reprehenderit\n",
            "qui est esse\n",
            "ea molestias quasi exercitationem repellat qui ipsa sit aut\n",
            "eum et est occaecati\n",
            "nesciunt quas odio\n",
            "dolorem eum magni eos aperiam quia\n",
            "magnam facilis autem\n",
            "dolorem dolore est ipsam\n",
            "nesciunt iure omnis dolorem tempora et accusantium\n",
            "optio molestias id quia eum\n",
            "et ea vero quia laudantium autem\n",
            "in quibusdam tempore odit est dolorem\n",
            "dolorum ut in voluptas mollitia et saepe quo animi\n",
            "voluptatem eligendi optio\n",
            "eveniet quod temporibus\n",
            "sint suscipit perspiciatis velit dolorum rerum ipsa laboriosam odio\n",
            "fugit voluptas sed molestias voluptatem provident\n",
            "voluptate et itaque vero tempora molestiae\n",
            "adipisci placeat illum aut reiciendis qui\n",
            "doloribus ad provident suscipit at\n",
            "asperiores ea ipsam voluptatibus modi minima quia sint\n",
            "dolor sint quo a velit explicabo quia nam\n",
            "maxime id vitae nihil numquam\n",
            "autem hic labore sunt dolores incidunt\n",
            "rem alias distinctio quo quis\n",
            "est et quae odit qui non\n",
            "quasi id et eos tenetur aut quo autem\n",
            "delectus ullam et corporis nulla voluptas sequi\n",
            "iusto eius quod necessitatibus culpa ea\n",
            "a quo magni similique perferendis\n",
            "ullam ut quidem id aut vel consequuntur\n",
            "doloremque illum aliquid sunt\n",
            "qui explicabo molestiae dolorem\n",
            "magnam ut rerum iure\n",
            "id nihil consequatur molestias animi provident\n",
            "fuga nam accusamus voluptas reiciendis itaque\n",
            "provident vel ut sit ratione est\n",
            "explicabo et eos deleniti nostrum ab id repellendus\n",
            "eos dolorem iste accusantium est eaque quam\n",
            "enim quo cumque\n",
            "non est facere\n",
            "commodi ullam sint et excepturi error explicabo praesentium voluptas\n",
            "eligendi iste nostrum consequuntur adipisci praesentium sit beatae perferendis\n",
            "optio dolor molestias sit\n",
            "ut numquam possimus omnis eius suscipit laudantium iure\n",
            "aut quo modi neque nostrum ducimus\n",
            "quibusdam cumque rem aut deserunt\n",
            "ut voluptatem illum ea doloribus itaque eos\n",
            "laborum non sunt aut ut assumenda perspiciatis voluptas\n",
            "repellendus qui recusandae incidunt voluptates tenetur qui omnis exercitationem\n",
            "soluta aliquam aperiam consequatur illo quis voluptas\n",
            "qui enim et consequuntur quia animi quis voluptate quibusdam\n",
            "ut quo aut ducimus alias\n",
            "sit asperiores ipsam eveniet odio non quia\n",
            "sit vel voluptatem et non libero\n",
            "qui et at rerum necessitatibus\n",
            "sed ab est est\n",
            "voluptatum itaque dolores nisi et quasi\n",
            "qui commodi dolor at maiores et quis id accusantium\n",
            "consequatur placeat omnis quisquam quia reprehenderit fugit veritatis facere\n",
            "voluptatem doloribus consectetur est ut ducimus\n",
            "beatae enim quia vel\n",
            "voluptas blanditiis repellendus animi ducimus error sapiente et suscipit\n",
            "et fugit quas eum in in aperiam quod\n",
            "consequatur id enim sunt et et\n",
            "repudiandae ea animi iusto\n",
            "aliquid eos sed fuga est maxime repellendus\n",
            "odio quis facere architecto reiciendis optio\n",
            "fugiat quod pariatur odit minima\n",
            "voluptatem laborum magni\n",
            "et iusto veniam et illum aut fuga\n",
            "sint hic doloribus consequatur eos non id\n",
            "consequuntur deleniti eos quia temporibus ab aliquid at\n",
            "enim unde ratione doloribus quas enim ut sit sapiente\n",
            "dignissimos eum dolor ut enim et delectus in\n",
            "doloremque officiis ad et non perferendis\n",
            "necessitatibus quasi exercitationem odio\n",
            "quam voluptatibus rerum veritatis\n",
            "pariatur consequatur quia magnam autem omnis non amet\n",
            "labore in ex et explicabo corporis aut quas\n",
            "tempora rem veritatis voluptas quo dolores vero\n",
            "laudantium voluptate suscipit sunt enim enim\n",
            "odit et voluptates doloribus alias odio et\n",
            "optio ipsam molestias necessitatibus occaecati facilis veritatis dolores aut\n",
            "dolore veritatis porro provident adipisci blanditiis et sunt\n",
            "placeat quia et porro iste\n",
            "nostrum quis quasi placeat\n",
            "sapiente omnis fugit eos\n",
            "sint soluta et vel magnam aut ut sed qui\n",
            "ad iusto omnis odit dolor voluptatibus\n",
            "aut amet sed\n",
            "ratione ex tenetur perferendis\n",
            "beatae soluta recusandae\n",
            "qui qui voluptates illo iste minima\n",
            "id minus libero illum nam ad officiis\n",
            "quaerat velit veniam amet cupiditate aut numquam ut sequi\n",
            "quas fugiat ut perspiciatis vero provident\n",
            "laboriosam dolor voluptates\n",
            "temporibus sit alias delectus eligendi possimus magni\n",
            "at nam consequatur ea labore ea harum\n"
          ]
        }
      ]
    },
    {
      "cell_type": "markdown",
      "source": [
        "**2. Error Handling: Add error handling to both functions to manage exceptions like connection errors or timeouts**."
      ],
      "metadata": {
        "id": "R8F-W2q_pWIc"
      }
    },
    {
      "cell_type": "code",
      "source": [
        "import requests\n",
        "\n",
        "def get_example():\n",
        "    # URL for the API endpoint that returns a list of posts\n",
        "    url = \"https://jsonplaceholder.typicode.com/posts\"\n",
        "\n",
        "    try:\n",
        "        # Send a GET request to the URL\n",
        "        response = requests.get(url, timeout=10)  # Set a timeout of 10 seconds\n",
        "\n",
        "        # Check if the response was successful (status code 200)\n",
        "        if response.status_code == 200:\n",
        "            # Parse the response JSON into a Python object (list of posts)\n",
        "            posts = response.json()\n",
        "\n",
        "            # Loop through each post and print the title\n",
        "            for post in posts:\n",
        "                print(post[\"title\"])\n",
        "        else:\n",
        "            print(f\"Failed to retrieve posts. Status code: {response.status_code}\")\n",
        "\n",
        "    except requests.exceptions.ConnectionError:\n",
        "        print(\"Connection error: Unable to connect to the server.\")\n",
        "    except requests.exceptions.Timeout:\n",
        "        print(\"Timeout error: The request timed out. Please try again later.\")\n",
        "    except requests.exceptions.RequestException as e:\n",
        "        # Catch any other request-related errors\n",
        "        print(f\"An error occurred: {e}\")\n",
        "\n",
        "# Call the function\n",
        "get_example()\n"
      ],
      "metadata": {
        "colab": {
          "base_uri": "https://localhost:8080/"
        },
        "id": "b6CX2_RspX69",
        "outputId": "1211970d-2a1a-4aba-d011-e3005444879a"
      },
      "execution_count": null,
      "outputs": [
        {
          "output_type": "stream",
          "name": "stdout",
          "text": [
            "sunt aut facere repellat provident occaecati excepturi optio reprehenderit\n",
            "qui est esse\n",
            "ea molestias quasi exercitationem repellat qui ipsa sit aut\n",
            "eum et est occaecati\n",
            "nesciunt quas odio\n",
            "dolorem eum magni eos aperiam quia\n",
            "magnam facilis autem\n",
            "dolorem dolore est ipsam\n",
            "nesciunt iure omnis dolorem tempora et accusantium\n",
            "optio molestias id quia eum\n",
            "et ea vero quia laudantium autem\n",
            "in quibusdam tempore odit est dolorem\n",
            "dolorum ut in voluptas mollitia et saepe quo animi\n",
            "voluptatem eligendi optio\n",
            "eveniet quod temporibus\n",
            "sint suscipit perspiciatis velit dolorum rerum ipsa laboriosam odio\n",
            "fugit voluptas sed molestias voluptatem provident\n",
            "voluptate et itaque vero tempora molestiae\n",
            "adipisci placeat illum aut reiciendis qui\n",
            "doloribus ad provident suscipit at\n",
            "asperiores ea ipsam voluptatibus modi minima quia sint\n",
            "dolor sint quo a velit explicabo quia nam\n",
            "maxime id vitae nihil numquam\n",
            "autem hic labore sunt dolores incidunt\n",
            "rem alias distinctio quo quis\n",
            "est et quae odit qui non\n",
            "quasi id et eos tenetur aut quo autem\n",
            "delectus ullam et corporis nulla voluptas sequi\n",
            "iusto eius quod necessitatibus culpa ea\n",
            "a quo magni similique perferendis\n",
            "ullam ut quidem id aut vel consequuntur\n",
            "doloremque illum aliquid sunt\n",
            "qui explicabo molestiae dolorem\n",
            "magnam ut rerum iure\n",
            "id nihil consequatur molestias animi provident\n",
            "fuga nam accusamus voluptas reiciendis itaque\n",
            "provident vel ut sit ratione est\n",
            "explicabo et eos deleniti nostrum ab id repellendus\n",
            "eos dolorem iste accusantium est eaque quam\n",
            "enim quo cumque\n",
            "non est facere\n",
            "commodi ullam sint et excepturi error explicabo praesentium voluptas\n",
            "eligendi iste nostrum consequuntur adipisci praesentium sit beatae perferendis\n",
            "optio dolor molestias sit\n",
            "ut numquam possimus omnis eius suscipit laudantium iure\n",
            "aut quo modi neque nostrum ducimus\n",
            "quibusdam cumque rem aut deserunt\n",
            "ut voluptatem illum ea doloribus itaque eos\n",
            "laborum non sunt aut ut assumenda perspiciatis voluptas\n",
            "repellendus qui recusandae incidunt voluptates tenetur qui omnis exercitationem\n",
            "soluta aliquam aperiam consequatur illo quis voluptas\n",
            "qui enim et consequuntur quia animi quis voluptate quibusdam\n",
            "ut quo aut ducimus alias\n",
            "sit asperiores ipsam eveniet odio non quia\n",
            "sit vel voluptatem et non libero\n",
            "qui et at rerum necessitatibus\n",
            "sed ab est est\n",
            "voluptatum itaque dolores nisi et quasi\n",
            "qui commodi dolor at maiores et quis id accusantium\n",
            "consequatur placeat omnis quisquam quia reprehenderit fugit veritatis facere\n",
            "voluptatem doloribus consectetur est ut ducimus\n",
            "beatae enim quia vel\n",
            "voluptas blanditiis repellendus animi ducimus error sapiente et suscipit\n",
            "et fugit quas eum in in aperiam quod\n",
            "consequatur id enim sunt et et\n",
            "repudiandae ea animi iusto\n",
            "aliquid eos sed fuga est maxime repellendus\n",
            "odio quis facere architecto reiciendis optio\n",
            "fugiat quod pariatur odit minima\n",
            "voluptatem laborum magni\n",
            "et iusto veniam et illum aut fuga\n",
            "sint hic doloribus consequatur eos non id\n",
            "consequuntur deleniti eos quia temporibus ab aliquid at\n",
            "enim unde ratione doloribus quas enim ut sit sapiente\n",
            "dignissimos eum dolor ut enim et delectus in\n",
            "doloremque officiis ad et non perferendis\n",
            "necessitatibus quasi exercitationem odio\n",
            "quam voluptatibus rerum veritatis\n",
            "pariatur consequatur quia magnam autem omnis non amet\n",
            "labore in ex et explicabo corporis aut quas\n",
            "tempora rem veritatis voluptas quo dolores vero\n",
            "laudantium voluptate suscipit sunt enim enim\n",
            "odit et voluptates doloribus alias odio et\n",
            "optio ipsam molestias necessitatibus occaecati facilis veritatis dolores aut\n",
            "dolore veritatis porro provident adipisci blanditiis et sunt\n",
            "placeat quia et porro iste\n",
            "nostrum quis quasi placeat\n",
            "sapiente omnis fugit eos\n",
            "sint soluta et vel magnam aut ut sed qui\n",
            "ad iusto omnis odit dolor voluptatibus\n",
            "aut amet sed\n",
            "ratione ex tenetur perferendis\n",
            "beatae soluta recusandae\n",
            "qui qui voluptates illo iste minima\n",
            "id minus libero illum nam ad officiis\n",
            "quaerat velit veniam amet cupiditate aut numquam ut sequi\n",
            "quas fugiat ut perspiciatis vero provident\n",
            "laboriosam dolor voluptates\n",
            "temporibus sit alias delectus eligendi possimus magni\n",
            "at nam consequatur ea labore ea harum\n"
          ]
        }
      ]
    },
    {
      "cell_type": "markdown",
      "source": [
        "**Request_parser**"
      ],
      "metadata": {
        "id": "5TMlwVrszlxt"
      }
    },
    {
      "cell_type": "code",
      "source": [
        "import requests\n",
        "from bs4 import BeautifulSoup\n",
        "url = \"https://www.prothomalo.com/bangladesh/district/l9iivxgmt0\"\n",
        "\n",
        "response = requests.get(url)\n",
        "html_doc = response.text\n",
        "\n",
        "soup = BeautifulSoup(html_doc, 'html.parser')\n",
        "\n",
        "# print(soup.prettify())\n",
        "\n",
        "print(soup.find('h1').text)\n",
        "all_paragraphs = soup.find_all('p')\n",
        "\n",
        "for paragraph in all_paragraphs:\n",
        "    print(paragraph.text)"
      ],
      "metadata": {
        "colab": {
          "base_uri": "https://localhost:8080/"
        },
        "id": "17SVz3HwzdCn",
        "outputId": "3ab137b3-ecbf-4a96-dc9b-2c736ef5dd1e"
      },
      "execution_count": null,
      "outputs": [
        {
          "output_type": "stream",
          "name": "stdout",
          "text": [
            "গাজীপুরে হাসপাতালের লিফটে ‘৪৫ মিনিট’ আটকে থেকে রোগীর মৃত্যু\n",
            "গাজীপুরের শহীদ তাজউদ্দীন আহমদ মেডিকেল কলেজ হাসপাতালের লিফটে দীর্ঘ সময় আটকে থাকার পর এক রোগীর মৃত্যু হয়েছে। লিফটের ভেতরে আটকে পড়া রোগীর স্বজনেরা লিফটম্যানদের কল দিলে উদ্ধার না করে তাঁরা দুর্ব্যবহার করেন বলে অভিযোগ করা হয়েছে। পরে জাতীয় জরুরি সেবা নম্বর ৯৯৯–এ কল করলে ফায়ার সার্ভিস এসে উদ্ধার করে। আজ রোববার সকাল সাড়ে ৯টার দিকে এ ঘটনা ঘটে।\n",
            "ওই রোগী হলেন গাজীপুরের কাপাসিয়া উপজেলার রানীগঞ্জ বাড়িগাঁও গ্রামের শারফুদ্দিনের স্ত্রী মমতাজ বেগম (৫৩)।\n",
            "মততাজের মেয়ে শারমিন আক্তার বলেন, ‘আমার মা সকালে অসুস্থ হয়ে পড়েন। পরে সকাল ছয়টায় হাসপাতালে নিয়ে আসি। প্রথমে মেডিসিন বিভাগে ভর্তি করে পরীক্ষা–নিরীক্ষা করা হয়। সেখানে পরীক্ষার পর জানা যায়, হার্টের কিছু সমস্যা দেখা দিয়েছে। পরে হাসপাতালের ১১ তালা থেকে ৪ তলার হৃদ্‌রোগ বিভাগে নেওয়ার কথা বলে। লিফটে উঠলে ৯ তলার মাঝামাঝি হঠাৎ বন্ধ হয়ে যায়। এ সময় আমি, আমার মামা, ভাইসহ কয়েকজন মাকে নিয়ে ভেতরে ছিলাম। আমাদের দম বন্ধ হয়ে যাচ্ছিল। আমরা লিফটে থাকা তিনজন লিফটম্যানের নম্বরে কল দিই। তাঁরা গাফিলতি করেন। ফোনে আমাদের সঙ্গে খারাপ ব্যবহার করেন।’\n",
            "শারমিন আক্তারের দাবি, ‘৪৫ মিনিট আমরা ভেতরে অবস্থান করেছি। উপায় না পেয়ে ৯৯৯–এ ফোন দিই। ফোন পেয়ে ফায়ার সার্ভিস এসে উদ্ধার করে। লিফটম্যানদের গাফিলতির কারণে আমার মায়ের মৃত্যু হয়েছে। তাঁদের মধ্যে কোনো দায়িত্ববোধ নেই।’\n",
            "গাজীপুর তাজউদ্দীন আহমদ মেডিকেল কলেজ হাসপাতালের উপপরিচালক মো. জাহাঙ্গীর আলম বলেন, সকালে মমতাজ বেগমকে বুকে ব্যথা অবস্থায় হাসপাতালে আনা হয়। পরে মেডিসিন বিভাগ থেকে ৪ তলায় নেওয়ার জন্য লিফটে তোলা হয়। এ সময় লিফটে যান্ত্রিক ত্রুটি দেখা দেয়। এতে দীর্ঘ সময় লিফট আটকে থাকেন। পরে লিফটম্যান ও ফায়ার সার্ভিসের লোক এসে উদ্ধার করেন। লিফটে আটকা সবাই সুস্থ ছিলেন, কিন্তু উনি অসুস্থ থাকায় মারা গেছেন। বিষয়টি তদন্ত করা হবে। কারও কোনো গাফিলতি আছে কিনা, সেটি দেখে ব্যবস্থা নেওয়া হবে।\n"
          ]
        }
      ]
    },
    {
      "cell_type": "code",
      "source": [
        "!pip install fastapi uvicorn pydantic # Install the necessary libraries\n",
        "from fastapi import FastAPI # Import FastAPI after installing\n",
        "import uvicorn\n",
        "from pydantic import BaseModel\n",
        "\n",
        "app = FastAPI()"
      ],
      "metadata": {
        "colab": {
          "base_uri": "https://localhost:8080/"
        },
        "id": "l9f15Y6j1cuQ",
        "outputId": "1802fd8a-1184-468a-967a-31feda11a884"
      },
      "execution_count": null,
      "outputs": [
        {
          "output_type": "stream",
          "name": "stdout",
          "text": [
            "Collecting fastapi\n",
            "  Downloading fastapi-0.115.6-py3-none-any.whl.metadata (27 kB)\n",
            "Collecting uvicorn\n",
            "  Downloading uvicorn-0.34.0-py3-none-any.whl.metadata (6.5 kB)\n",
            "Requirement already satisfied: pydantic in /usr/local/lib/python3.10/dist-packages (2.10.3)\n",
            "Collecting starlette<0.42.0,>=0.40.0 (from fastapi)\n",
            "  Downloading starlette-0.41.3-py3-none-any.whl.metadata (6.0 kB)\n",
            "Requirement already satisfied: typing-extensions>=4.8.0 in /usr/local/lib/python3.10/dist-packages (from fastapi) (4.12.2)\n",
            "Requirement already satisfied: click>=7.0 in /usr/local/lib/python3.10/dist-packages (from uvicorn) (8.1.7)\n",
            "Requirement already satisfied: h11>=0.8 in /usr/local/lib/python3.10/dist-packages (from uvicorn) (0.14.0)\n",
            "Requirement already satisfied: annotated-types>=0.6.0 in /usr/local/lib/python3.10/dist-packages (from pydantic) (0.7.0)\n",
            "Requirement already satisfied: pydantic-core==2.27.1 in /usr/local/lib/python3.10/dist-packages (from pydantic) (2.27.1)\n",
            "Requirement already satisfied: anyio<5,>=3.4.0 in /usr/local/lib/python3.10/dist-packages (from starlette<0.42.0,>=0.40.0->fastapi) (3.7.1)\n",
            "Requirement already satisfied: idna>=2.8 in /usr/local/lib/python3.10/dist-packages (from anyio<5,>=3.4.0->starlette<0.42.0,>=0.40.0->fastapi) (3.10)\n",
            "Requirement already satisfied: sniffio>=1.1 in /usr/local/lib/python3.10/dist-packages (from anyio<5,>=3.4.0->starlette<0.42.0,>=0.40.0->fastapi) (1.3.1)\n",
            "Requirement already satisfied: exceptiongroup in /usr/local/lib/python3.10/dist-packages (from anyio<5,>=3.4.0->starlette<0.42.0,>=0.40.0->fastapi) (1.2.2)\n",
            "Downloading fastapi-0.115.6-py3-none-any.whl (94 kB)\n",
            "\u001b[2K   \u001b[90m━━━━━━━━━━━━━━━━━━━━━━━━━━━━━━━━━━━━━━━━\u001b[0m \u001b[32m94.8/94.8 kB\u001b[0m \u001b[31m4.0 MB/s\u001b[0m eta \u001b[36m0:00:00\u001b[0m\n",
            "\u001b[?25hDownloading uvicorn-0.34.0-py3-none-any.whl (62 kB)\n",
            "\u001b[2K   \u001b[90m━━━━━━━━━━━━━━━━━━━━━━━━━━━━━━━━━━━━━━━━\u001b[0m \u001b[32m62.3/62.3 kB\u001b[0m \u001b[31m3.5 MB/s\u001b[0m eta \u001b[36m0:00:00\u001b[0m\n",
            "\u001b[?25hDownloading starlette-0.41.3-py3-none-any.whl (73 kB)\n",
            "\u001b[2K   \u001b[90m━━━━━━━━━━━━━━━━━━━━━━━━━━━━━━━━━━━━━━━━\u001b[0m \u001b[32m73.2/73.2 kB\u001b[0m \u001b[31m6.1 MB/s\u001b[0m eta \u001b[36m0:00:00\u001b[0m\n",
            "\u001b[?25hInstalling collected packages: uvicorn, starlette, fastapi\n",
            "Successfully installed fastapi-0.115.6 starlette-0.41.3 uvicorn-0.34.0\n"
          ]
        }
      ]
    },
    {
      "cell_type": "code",
      "source": [
        "news = {\n",
        "    1:\n",
        "    {\n",
        "        \"id\": 1,\n",
        "        \"title\": \"Top 10 programming languages\",\n",
        "        \"content\": \"Python is the most popular programming language according to the TIOBE index. Other popular\",\n",
        "        \"author\": \"Kalim\"\n",
        "    },\n",
        "    2:\n",
        "    {\n",
        "        \"id\": 2,\n",
        "        \"title\": \"LLM race in modern era\",\n",
        "        \"content\": \"Content on modern LLM models both close & open source\",\n",
        "        \"author\": \"Ibrahim\"\n",
        "    },\n",
        "    3:\n",
        "    {\n",
        "        \"id\": 3,\n",
        "        \"title\": \"Latest LLM models from Mistral!!!\",\n",
        "        \"content\": \"ontent on modern LLM models both close & oper\",\n",
        "        \"author\": \"Kalim\"\n",
        "    },\n",
        "    4:\n",
        "    {\n",
        "        \"id\": 4,\n",
        "        \"title\": \"What's the Google calls on LLM!!\",\n",
        "        \"content\": \"ontent on modern LLM models both close & ope\",\n",
        "        \"author\": \"Kalim\"\n",
        "    },\n",
        "}"
      ],
      "metadata": {
        "id": "ACTniINN1ltP"
      },
      "execution_count": null,
      "outputs": []
    },
    {
      "cell_type": "code",
      "source": [
        "class News(BaseModel):\n",
        "    title: str\n",
        "    content: str | None = None\n",
        "    author: str\n",
        "\n",
        "\n",
        "@app.get(\"/\")\n",
        "def index():\n",
        "    return {\"message\": \"Hello World\"}\n",
        "\n"
      ],
      "metadata": {
        "id": "QQlZH11P1wYX"
      },
      "execution_count": null,
      "outputs": []
    },
    {
      "cell_type": "code",
      "source": [
        "@app.get(\"/news\")\n",
        "def news_by_title(title_contains: str):\n",
        "    print(title_contains)\n",
        "    for single_news in news.values():\n",
        "        if title_contains.lower() in single_news[\"title\"].lower():\n",
        "            return single_news\n",
        "\n",
        "    return {\"data\": \"No news found with title containing \"+title_contains}"
      ],
      "metadata": {
        "id": "Px1Jwply13Pu"
      },
      "execution_count": null,
      "outputs": []
    },
    {
      "cell_type": "code",
      "source": [
        "# http://localhost:8000/news/%7Bauthor%7D?title_contains=llm\n",
        "@app.get(\"/news/{author}\")\n",
        "def news_filter_by_author_title(author: str, title_contains: str = None):\n",
        "    print(author, title_contains)\n",
        "    filtered_news = [news for news in news.values() if news[\"author\"].lower() == author.lower()]\n",
        "    print(filtered_news)\n",
        "    if title_contains:\n",
        "        filtered_news = [news for news in filtered_news if title_contains.lower() in news[\"title\"].lower()]\n",
        "        if not filtered_news:\n",
        "            return {\"data\": f\"No news found from author {author} with title containing {title_contains}\"}\n",
        "    return filtered_news"
      ],
      "metadata": {
        "id": "wcvd_j7X18k3"
      },
      "execution_count": null,
      "outputs": []
    },
    {
      "cell_type": "code",
      "source": [
        "@app.post(\"/create-news\")\n",
        "def create_news(response_news: News):\n",
        "    print(response_news)\n",
        "\n",
        "    id = max(news.keys()) + 1\n",
        "    news[id] = {\n",
        "        \"id\": id,\n",
        "        \"title\": response_news.title,\n",
        "        \"content\": response_news.content,\n",
        "        \"author\": response_news.author\n",
        "    }\n",
        "\n",
        "    return news[id]"
      ],
      "metadata": {
        "id": "8HbABwnj2B_W"
      },
      "execution_count": null,
      "outputs": []
    },
    {
      "cell_type": "code",
      "source": [
        "@app.get(\"/\")\n",
        "def hearbeat():\n",
        "    return {\"message\": \"I'm up and running!\"}\n",
        "\n",
        "if __name__ == '__main__':\n",
        "    uvicorn.run(\"basic:app\", host='localhost', port=8000, reload=True)"
      ],
      "metadata": {
        "colab": {
          "base_uri": "https://localhost:8080/"
        },
        "id": "BxT9Xdic2IE2",
        "outputId": "2ac8625c-738c-4e8b-da3e-1b4d05e91372"
      },
      "execution_count": null,
      "outputs": [
        {
          "output_type": "stream",
          "name": "stderr",
          "text": [
            "INFO:     Will watch for changes in these directories: ['/content']\n",
            "INFO:     Uvicorn running on http://localhost:8000 (Press CTRL+C to quit)\n",
            "INFO:     Started reloader process [356] using StatReload\n",
            "INFO:     Stopping reloader process [356]\n"
          ]
        }
      ]
    }
  ]
}